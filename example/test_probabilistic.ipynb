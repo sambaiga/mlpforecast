{
 "cells": [
  {
   "cell_type": "code",
   "execution_count": 2,
   "metadata": {},
   "outputs": [],
   "source": [
    "import torch\n",
    "from mlpforecast.distribution.parametric import MCDMultivariateNormal\n",
    "from mlpforecast.distribution.fpqreg import FPQRNetwork\n",
    "from mlpforecast.distribution.qreg import QRNetwork\n",
    "from mlpforecast.distribution.parametric import LaplaceDistribution\n"
   ]
  },
  {
   "cell_type": "code",
   "execution_count": 3,
   "metadata": {},
   "outputs": [
    {
     "data": {
      "text/plain": [
       "(tensor(81.1080, grad_fn=<AddBackward0>),\n",
       " tensor(17.1297, grad_fn=<MeanBackward0>))"
      ]
     },
     "execution_count": 3,
     "metadata": {},
     "output_type": "execute_result"
    }
   ],
   "source": [
    "m=FPQRNetwork(kappa=0.25)\n",
    "z=torch.randn(4, 256)\n",
    "y=torch.randn(4, 48, 1)\n",
    "import torchmetrics\n",
    "m.step(z, torch.randn(4, 48, 1), torchmetrics.MeanAbsoluteError())\n"
   ]
  },
  {
   "cell_type": "code",
   "execution_count": 4,
   "metadata": {},
   "outputs": [
    {
     "data": {
      "text/plain": [
       "(tensor(75.1919, grad_fn=<AddBackward0>),\n",
       " tensor(2.8603, grad_fn=<MeanBackward0>))"
      ]
     },
     "execution_count": 4,
     "metadata": {},
     "output_type": "execute_result"
    }
   ],
   "source": [
    "m=QRNetwork()\n",
    "z=torch.randn(4, 256)\n",
    "import torchmetrics\n",
    "m.step(z, torch.randn(4, 48, 1), torchmetrics.MeanAbsoluteError())\n"
   ]
  },
  {
   "cell_type": "code",
   "execution_count": 5,
   "metadata": {},
   "outputs": [
    {
     "data": {
      "text/plain": [
       "(tensor(198.4546, grad_fn=<AddBackward0>),\n",
       " tensor(1.2872, grad_fn=<SqueezeBackward0>))"
      ]
     },
     "execution_count": 5,
     "metadata": {},
     "output_type": "execute_result"
    }
   ],
   "source": [
    "\n",
    "m=LaplaceDistribution()\n",
    "z=torch.randn(4, 256)\n",
    "loc, scale=m(z)\n",
    "m.step(z, torch.randn(4, 48, 1), torchmetrics.MeanAbsoluteError())"
   ]
  },
  {
   "cell_type": "code",
   "execution_count": null,
   "metadata": {},
   "outputs": [],
   "source": [
    "m.sample(z)"
   ]
  },
  {
   "cell_type": "code",
   "execution_count": 6,
   "metadata": {},
   "outputs": [
    {
     "data": {
      "text/plain": [
       "(tensor(149.6653, grad_fn=<AddBackward0>),\n",
       " tensor(1.0137, grad_fn=<SqueezeBackward0>))"
      ]
     },
     "execution_count": 6,
     "metadata": {},
     "output_type": "execute_result"
    }
   ],
   "source": [
    "\n",
    "m=MCDMultivariateNormal()\n",
    "z=torch.randn(4, 256)\n",
    "m.step(z, torch.randn(4, 48, 1), torchmetrics.MeanAbsoluteError())"
   ]
  },
  {
   "cell_type": "code",
   "execution_count": null,
   "metadata": {},
   "outputs": [],
   "source": [
    "m.sample(z)"
   ]
  }
 ],
 "metadata": {
  "kernelspec": {
   "display_name": "mlpf",
   "language": "python",
   "name": "python3"
  },
  "language_info": {
   "codemirror_mode": {
    "name": "ipython",
    "version": 3
   },
   "file_extension": ".py",
   "mimetype": "text/x-python",
   "name": "python",
   "nbconvert_exporter": "python",
   "pygments_lexer": "ipython3",
   "version": "3.11.9"
  }
 },
 "nbformat": 4,
 "nbformat_minor": 2
}
