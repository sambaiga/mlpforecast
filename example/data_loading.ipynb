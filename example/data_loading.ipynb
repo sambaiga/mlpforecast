{
 "cells": [
  {
   "cell_type": "code",
   "execution_count": null,
   "metadata": {},
   "outputs": [],
   "source": [
    "import pandas as pd\n",
    "import numpy as np\n",
    "\n",
    "data = pd.read_parquet('../data/albania_res.parquet')"
   ]
  },
  {
   "cell_type": "code",
   "execution_count": null,
   "metadata": {},
   "outputs": [],
   "source": [
    "data.index = pd.to_datetime(data.index, utc='UTC')"
   ]
  },
  {
   "cell_type": "code",
   "execution_count": null,
   "metadata": {},
   "outputs": [],
   "source": [
    "from mlpforecast.data.transform import DatasetObjective\n",
    "from sklearn.preprocessing import MinMaxScaler, RobustScaler\n",
    "\n",
    "config_dict = {\n",
    "    \"target_series\": \"NetLoad\",\n",
    "    \"unknown_features\": ['NetLoad_rolling_mean_win_48',\n",
    "       'NetLoad_rolling_mean_win_336'],\n",
    "    \"calender_variable\": ['HOUR', 'Session'],\n",
    "    \"known_calender_features\": ['HOUR-cosin', 'Session-cosin'],\n",
    "    \"known_continuous_features\": ['NetLoad_lag_48', 'NetLoad_lag_336', 'Temperature', 'Humidity', 'Rain'],\n",
    "    \"input_scaler\": RobustScaler(),\n",
    "    \"target_scaler\":  RobustScaler(),\n",
    "    \"lags\": [1 , 7 ],\n",
    "    \"window\": [1 , 7 ],\n",
    "    \"window_func\": [\"mean\"],\n",
    "    \"period\": \"30min\",\n",
    "    \"input_window_size\": 96,\n",
    "    \"forecast_horizon\": 48,\n",
    "    \"date_column\": \"timestamp\"\n",
    "}"
   ]
  },
  {
   "cell_type": "code",
   "execution_count": null,
   "metadata": {},
   "outputs": [],
   "source": [
    "ds= DatasetObjective(**config_dict)"
   ]
  },
  {
   "cell_type": "code",
   "execution_count": null,
   "metadata": {},
   "outputs": [],
   "source": [
    "#data.reset_index().columns"
   ]
  },
  {
   "cell_type": "code",
   "execution_count": null,
   "metadata": {},
   "outputs": [],
   "source": [
    "x, y=ds.fit_transform(data.reset_index())"
   ]
  },
  {
   "cell_type": "code",
   "execution_count": null,
   "metadata": {},
   "outputs": [],
   "source": [
    "import arviz as az\n",
    "import matplotlib\n",
    "import matplotlib.pyplot as plt\n",
    "az.style.use([\"science\", 'arviz-doc', 'tableau-colorblind10'])\n",
    "nice_fonts = {\n",
    "        \"savefig.bbox\" : \"tight\",\n",
    "        \"savefig.pad_inches\" : 0.05,\n",
    "        \"axes.labelsize\": 8,\n",
    "        \"font.size\": 8,\n",
    "        \"legend.fontsize\": 8,\n",
    "        \"legend.frameon\" :False\n",
    "}\n",
    "matplotlib.rcParams.update(nice_fonts)\n",
    "import matplotlib_inline.backend_inline\n",
    "matplotlib_inline.backend_inline.set_matplotlib_formats(\"svg\", \"pdf\", \"retina\")  # For export"
   ]
  },
  {
   "cell_type": "code",
   "execution_count": null,
   "metadata": {},
   "outputs": [],
   "source": [
    "fig, ax = plt.subplots(1,1, figsize=(4,2))\n",
    "ax.plot(x[0, :, :5]);"
   ]
  },
  {
   "cell_type": "code",
   "execution_count": null,
   "metadata": {},
   "outputs": [],
   "source": [
    "from mlpforecast.data.loader import TimeseriesDataModule\n",
    "\n",
    "dl = TimeseriesDataModule(x, y)"
   ]
  },
  {
   "cell_type": "code",
   "execution_count": null,
   "metadata": {},
   "outputs": [],
   "source": [
    "x, y=next(iter(dl.train_dataloader()))\n",
    "fig, ax = plt.subplots(1,1, figsize=(4,2))\n",
    "ax.plot(x[0, :, :5]);"
   ]
  },
  {
   "cell_type": "code",
   "execution_count": null,
   "metadata": {},
   "outputs": [],
   "source": [
    "from mlpforecast.forecaster.mlp import MLPForecast\n",
    "hparams = {\"data_pipeline\":ds, \"target_series\": \"NetLoad\",\n",
    "    \"unknown_features\": ['NetLoad_rolling_mean_win_48',\n",
    "       'NetLoad_rolling_mean_win_336'],\n",
    "    \"known_calender_features\": ['HOUR-cosin', 'Session-cosin'],\n",
    "    \"known_continuous_features\": ['NetLoad_lag_48', 'NetLoad_lag_336', 'Temperature', 'Humidity', 'Rain'],\n",
    "                \"embedding_size\": 20,\n",
    "                \"embedding_type\": None,\n",
    "                \"combination_type\": \"additional\",\n",
    "                \"hidden_size\": 256,\n",
    "                \"num_layers\": 2,\n",
    "                'expansion_factor':2,\n",
    "                \"residual\":  False,\n",
    "                \"forecast_horizon\": 48,\n",
    "                \"input_window_size\": 96,\n",
    "                \"activation_function\": \"SiLU\",\n",
    "                \"out_activation_function\": \"Identity\",\n",
    "                \"dropout_rate\": 0.1,\n",
    "                \"alpha\": 0.25,\n",
    "                \"max_epochs\":10,\n",
    "            }\n",
    "\n",
    "model = MLPForecast(hparams=hparams)"
   ]
  },
  {
   "cell_type": "code",
   "execution_count": null,
   "metadata": {},
   "outputs": [],
   "source": [
    "model.fit(data.reset_index()[:20000])"
   ]
  },
  {
   "cell_type": "code",
   "execution_count": null,
   "metadata": {},
   "outputs": [],
   "source": [
    "x,y=next(iter(model.datamodule.train_dataloader()))"
   ]
  },
  {
   "cell_type": "code",
   "execution_count": null,
   "metadata": {},
   "outputs": [],
   "source": [
    "model.model.eval()\n",
    "pred=model.model.forecast(x)['pred']\n",
    "fig, ax = plt.subplots(1,1, figsize=(4,2))\n",
    "ax.plot(pred[0, :, 0]);\n",
    "ax.plot(y[0, :, 0]);"
   ]
  }
 ],
 "metadata": {
  "kernelspec": {
   "display_name": "MLPF",
   "language": "python",
   "name": "python3"
  },
  "language_info": {
   "codemirror_mode": {
    "name": "ipython",
    "version": 3
   },
   "file_extension": ".py",
   "mimetype": "text/x-python",
   "name": "python",
   "nbconvert_exporter": "python",
   "pygments_lexer": "ipython3",
   "version": "3.11.9"
  }
 },
 "nbformat": 4,
 "nbformat_minor": 2
}
