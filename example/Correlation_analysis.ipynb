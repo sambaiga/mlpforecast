{
 "cells": [
  {
   "cell_type": "markdown",
   "metadata": {},
   "source": [
    "# Time Series Analysis using MLPForecast\n",
    "\n",
    "This notebook demonstrates how to use the `mlpforecast` library for time series analysis. We will go through the following steps:\n"
   ]
  },
  {
   "cell_type": "markdown",
   "metadata": {},
   "source": [
    "## 1. Importing Necessary Libraries\n",
    "\n",
    "We start by importing the necessary libraries and setting up the plotting style.\n"
   ]
  },
  {
   "cell_type": "code",
   "execution_count": null,
   "metadata": {},
   "outputs": [],
   "source": [
    "import numpy as np\n",
    "import pandas as pd\n",
    "import arviz as az\n",
    "import matplotlib\n",
    "import matplotlib.pyplot as plt\n",
    "\n",
    "az.style.use([\"science\", \"arviz-doc\", \"tableau-colorblind10\", \"no-latex\"])\n",
    "nice_fonts = {\n",
    "    \"savefig.bbox\": \"tight\",\n",
    "    \"savefig.pad_inches\": 0.05,\n",
    "    \"axes.labelsize\": 8,\n",
    "    \"font.size\": 8,\n",
    "    \"legend.fontsize\": 8,\n",
    "    \"legend.frameon\": False,\n",
    "}\n",
    "matplotlib.rcParams.update(nice_fonts)\n",
    "import matplotlib_inline.backend_inline\n",
    "\n",
    "matplotlib_inline.backend_inline.set_matplotlib_formats(\n",
    "    \"svg\", \"pdf\", \"retina\"\n",
    ")  # For export"
   ]
  },
  {
   "cell_type": "code",
   "execution_count": null,
   "metadata": {},
   "outputs": [],
   "source": [
    "data = pd.read_parquet(\"../data/albania_res.parquet\")\n",
    "data.index = pd.to_datetime(data.index, utc=\"UTC\")"
   ]
  },
  {
   "cell_type": "code",
   "execution_count": null,
   "metadata": {},
   "outputs": [],
   "source": [
    "weather_variable = [\"Temperature\", \"Humidity\", \"Rain\"]"
   ]
  },
  {
   "cell_type": "markdown",
   "metadata": {},
   "source": [
    "## Correlation analysis"
   ]
  },
  {
   "cell_type": "code",
   "execution_count": null,
   "metadata": {},
   "outputs": [],
   "source": [
    "from mlpforecast.stats.corr import CorrelationAnalyzer"
   ]
  },
  {
   "cell_type": "code",
   "execution_count": null,
   "metadata": {},
   "outputs": [],
   "source": [
    "corr = CorrelationAnalyzer()\n",
    "chart = corr.corr(\n",
    "    data,\n",
    "    weather_variable,\n",
    "    \"NetLoad(MWh)\",\n",
    "    method=\"scatter\",\n",
    "    hue_col=\"Season\",\n",
    "    n_sample=1000,\n",
    ")\n",
    "chart"
   ]
  },
  {
   "cell_type": "code",
   "execution_count": null,
   "metadata": {},
   "outputs": [],
   "source": [
    "res = corr.corr(data, weather_variable, \"NetLoad(MWh)\", method=\"xicor\")\n",
    "fig, ax = plt.subplots(1, 1, figsize=(5.5, 2.25))\n",
    "corr.plot(ax, res)"
   ]
  },
  {
   "cell_type": "code",
   "execution_count": null,
   "metadata": {},
   "outputs": [],
   "source": [
    "res = corr.corr(data, weather_variable, \"NetLoad(MWh)\", method=\"pearson\")\n",
    "fig, ax = plt.subplots(1, 1, figsize=(5.5, 2.25))\n",
    "corr.plot(ax, res)"
   ]
  },
  {
   "cell_type": "code",
   "execution_count": null,
   "metadata": {},
   "outputs": [],
   "source": [
    "res = corr.corr(data, weather_variable, \"NetLoad(MWh)\", method=\"ppscore\")\n",
    "fig, ax = plt.subplots(1, 1, figsize=(5.5, 2.25))\n",
    "corr.plot(ax, res)"
   ]
  }
 ],
 "metadata": {
  "kernelspec": {
   "display_name": "forecast",
   "language": "python",
   "name": "python3"
  },
  "language_info": {
   "codemirror_mode": {
    "name": "ipython",
    "version": 3
   },
   "file_extension": ".py",
   "mimetype": "text/x-python",
   "name": "python",
   "nbconvert_exporter": "python",
   "pygments_lexer": "ipython3",
   "version": "3.11.9"
  }
 },
 "nbformat": 4,
 "nbformat_minor": 2
}
